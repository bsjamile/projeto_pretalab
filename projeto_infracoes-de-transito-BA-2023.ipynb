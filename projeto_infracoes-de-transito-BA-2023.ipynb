{
 "cells": [
  {
   "cell_type": "markdown",
   "metadata": {},
   "source": [
    "#### Projeto Final - Infrações de Trânsito BA 2023"
   ]
  },
  {
   "cell_type": "code",
   "execution_count": 2,
   "metadata": {},
   "outputs": [
    {
     "name": "stderr",
     "output_type": "stream",
     "text": [
      "\n",
      "A module that was compiled using NumPy 1.x cannot be run in\n",
      "NumPy 2.0.1 as it may crash. To support both 1.x and 2.x\n",
      "versions of NumPy, modules must be compiled with NumPy 2.0.\n",
      "Some module may need to rebuild instead e.g. with 'pybind11>=2.12'.\n",
      "\n",
      "If you are a user of the module, the easiest solution will be to\n",
      "downgrade to 'numpy<2' or try to upgrade the affected module.\n",
      "We expect that some modules will need time to support NumPy 2.\n",
      "\n",
      "Traceback (most recent call last):  File \"c:\\Users\\jamile.santos\\Anaconda3\\lib\\runpy.py\", line 197, in _run_module_as_main\n",
      "    return _run_code(code, main_globals, None,\n",
      "  File \"c:\\Users\\jamile.santos\\Anaconda3\\lib\\runpy.py\", line 87, in _run_code\n",
      "    exec(code, run_globals)\n",
      "  File \"c:\\Users\\jamile.santos\\Anaconda3\\lib\\site-packages\\ipykernel_launcher.py\", line 17, in <module>\n",
      "    app.launch_new_instance()\n",
      "  File \"c:\\Users\\jamile.santos\\Anaconda3\\lib\\site-packages\\traitlets\\config\\application.py\", line 846, in launch_instance\n",
      "    app.start()\n",
      "  File \"c:\\Users\\jamile.santos\\Anaconda3\\lib\\site-packages\\ipykernel\\kernelapp.py\", line 712, in start\n",
      "    self.io_loop.start()\n",
      "  File \"c:\\Users\\jamile.santos\\Anaconda3\\lib\\site-packages\\tornado\\platform\\asyncio.py\", line 199, in start\n",
      "    self.asyncio_loop.run_forever()\n",
      "  File \"c:\\Users\\jamile.santos\\Anaconda3\\lib\\asyncio\\base_events.py\", line 601, in run_forever\n",
      "    self._run_once()\n",
      "  File \"c:\\Users\\jamile.santos\\Anaconda3\\lib\\asyncio\\base_events.py\", line 1905, in _run_once\n",
      "    handle._run()\n",
      "  File \"c:\\Users\\jamile.santos\\Anaconda3\\lib\\asyncio\\events.py\", line 80, in _run\n",
      "    self._context.run(self._callback, *self._args)\n",
      "  File \"c:\\Users\\jamile.santos\\Anaconda3\\lib\\site-packages\\ipykernel\\kernelbase.py\", line 510, in dispatch_queue\n",
      "    await self.process_one()\n",
      "  File \"c:\\Users\\jamile.santos\\Anaconda3\\lib\\site-packages\\ipykernel\\kernelbase.py\", line 499, in process_one\n",
      "    await dispatch(*args)\n",
      "  File \"c:\\Users\\jamile.santos\\Anaconda3\\lib\\site-packages\\ipykernel\\kernelbase.py\", line 406, in dispatch_shell\n",
      "    await result\n",
      "  File \"c:\\Users\\jamile.santos\\Anaconda3\\lib\\site-packages\\ipykernel\\kernelbase.py\", line 730, in execute_request\n",
      "    reply_content = await reply_content\n",
      "  File \"c:\\Users\\jamile.santos\\Anaconda3\\lib\\site-packages\\ipykernel\\ipkernel.py\", line 390, in do_execute\n",
      "    res = shell.run_cell(code, store_history=store_history, silent=silent)\n",
      "  File \"c:\\Users\\jamile.santos\\Anaconda3\\lib\\site-packages\\ipykernel\\zmqshell.py\", line 528, in run_cell\n",
      "    return super().run_cell(*args, **kwargs)\n",
      "  File \"c:\\Users\\jamile.santos\\Anaconda3\\lib\\site-packages\\IPython\\core\\interactiveshell.py\", line 2914, in run_cell\n",
      "    result = self._run_cell(\n",
      "  File \"c:\\Users\\jamile.santos\\Anaconda3\\lib\\site-packages\\IPython\\core\\interactiveshell.py\", line 2960, in _run_cell\n",
      "    return runner(coro)\n",
      "  File \"c:\\Users\\jamile.santos\\Anaconda3\\lib\\site-packages\\IPython\\core\\async_helpers.py\", line 78, in _pseudo_sync_runner\n",
      "    coro.send(None)\n",
      "  File \"c:\\Users\\jamile.santos\\Anaconda3\\lib\\site-packages\\IPython\\core\\interactiveshell.py\", line 3185, in run_cell_async\n",
      "    has_raised = await self.run_ast_nodes(code_ast.body, cell_name,\n",
      "  File \"c:\\Users\\jamile.santos\\Anaconda3\\lib\\site-packages\\IPython\\core\\interactiveshell.py\", line 3377, in run_ast_nodes\n",
      "    if (await self.run_code(code, result,  async_=asy)):\n",
      "  File \"c:\\Users\\jamile.santos\\Anaconda3\\lib\\site-packages\\IPython\\core\\interactiveshell.py\", line 3457, in run_code\n",
      "    exec(code_obj, self.user_global_ns, self.user_ns)\n",
      "  File \"C:\\Users\\jamile.santos\\AppData\\Local\\Temp\\ipykernel_9136\\38279244.py\", line 4, in <module>\n",
      "    import matplotlib.pyplot as plt\n",
      "  File \"c:\\Users\\jamile.santos\\Anaconda3\\lib\\site-packages\\matplotlib\\__init__.py\", line 109, in <module>\n",
      "    from . import _api, _version, cbook, docstring, rcsetup\n",
      "  File \"c:\\Users\\jamile.santos\\Anaconda3\\lib\\site-packages\\matplotlib\\rcsetup.py\", line 27, in <module>\n",
      "    from matplotlib.colors import Colormap, is_color_like\n",
      "  File \"c:\\Users\\jamile.santos\\Anaconda3\\lib\\site-packages\\matplotlib\\colors.py\", line 56, in <module>\n",
      "    from matplotlib import _api, cbook, scale\n",
      "  File \"c:\\Users\\jamile.santos\\Anaconda3\\lib\\site-packages\\matplotlib\\scale.py\", line 23, in <module>\n",
      "    from matplotlib.ticker import (\n",
      "  File \"c:\\Users\\jamile.santos\\Anaconda3\\lib\\site-packages\\matplotlib\\ticker.py\", line 136, in <module>\n",
      "    from matplotlib import transforms as mtransforms\n",
      "  File \"c:\\Users\\jamile.santos\\Anaconda3\\lib\\site-packages\\matplotlib\\transforms.py\", line 46, in <module>\n",
      "    from matplotlib._path import (\n"
     ]
    },
    {
     "ename": "AttributeError",
     "evalue": "_ARRAY_API not found",
     "output_type": "error",
     "traceback": [
      "\u001b[1;31m---------------------------------------------------------------------------\u001b[0m",
      "\u001b[1;31mAttributeError\u001b[0m                            Traceback (most recent call last)",
      "\u001b[1;31mAttributeError\u001b[0m: _ARRAY_API not found"
     ]
    },
    {
     "ename": "ImportError",
     "evalue": "numpy.core.multiarray failed to import",
     "output_type": "error",
     "traceback": [
      "\u001b[1;31m---------------------------------------------------------------------------\u001b[0m",
      "\u001b[1;31mImportError\u001b[0m                               Traceback (most recent call last)",
      "\u001b[1;32m~\\AppData\\Local\\Temp\\ipykernel_9136\\38279244.py\u001b[0m in \u001b[0;36m<module>\u001b[1;34m\u001b[0m\n\u001b[0;32m      2\u001b[0m \u001b[1;32mimport\u001b[0m \u001b[0mpandas\u001b[0m \u001b[1;32mas\u001b[0m \u001b[0mpd\u001b[0m\u001b[1;33m\u001b[0m\u001b[1;33m\u001b[0m\u001b[0m\n\u001b[0;32m      3\u001b[0m \u001b[1;32mimport\u001b[0m \u001b[0mos\u001b[0m\u001b[1;33m\u001b[0m\u001b[1;33m\u001b[0m\u001b[0m\n\u001b[1;32m----> 4\u001b[1;33m \u001b[1;32mimport\u001b[0m \u001b[0mmatplotlib\u001b[0m\u001b[1;33m.\u001b[0m\u001b[0mpyplot\u001b[0m \u001b[1;32mas\u001b[0m \u001b[0mplt\u001b[0m\u001b[1;33m\u001b[0m\u001b[1;33m\u001b[0m\u001b[0m\n\u001b[0m\u001b[0;32m      5\u001b[0m \u001b[1;32mimport\u001b[0m \u001b[0mseaborn\u001b[0m \u001b[1;32mas\u001b[0m \u001b[0msns\u001b[0m\u001b[1;33m\u001b[0m\u001b[1;33m\u001b[0m\u001b[0m\n\u001b[0;32m      6\u001b[0m \u001b[1;32mimport\u001b[0m \u001b[0mnumpy\u001b[0m \u001b[1;32mas\u001b[0m \u001b[0mnp\u001b[0m\u001b[1;33m\u001b[0m\u001b[1;33m\u001b[0m\u001b[0m\n",
      "\u001b[1;32mc:\\Users\\jamile.santos\\Anaconda3\\lib\\site-packages\\matplotlib\\__init__.py\u001b[0m in \u001b[0;36m<module>\u001b[1;34m\u001b[0m\n\u001b[0;32m    107\u001b[0m \u001b[1;31m# cbook must import matplotlib only within function\u001b[0m\u001b[1;33m\u001b[0m\u001b[1;33m\u001b[0m\u001b[0m\n\u001b[0;32m    108\u001b[0m \u001b[1;31m# definitions, so it is safe to import from it here.\u001b[0m\u001b[1;33m\u001b[0m\u001b[1;33m\u001b[0m\u001b[0m\n\u001b[1;32m--> 109\u001b[1;33m \u001b[1;32mfrom\u001b[0m \u001b[1;33m.\u001b[0m \u001b[1;32mimport\u001b[0m \u001b[0m_api\u001b[0m\u001b[1;33m,\u001b[0m \u001b[0m_version\u001b[0m\u001b[1;33m,\u001b[0m \u001b[0mcbook\u001b[0m\u001b[1;33m,\u001b[0m \u001b[0mdocstring\u001b[0m\u001b[1;33m,\u001b[0m \u001b[0mrcsetup\u001b[0m\u001b[1;33m\u001b[0m\u001b[1;33m\u001b[0m\u001b[0m\n\u001b[0m\u001b[0;32m    110\u001b[0m \u001b[1;32mfrom\u001b[0m \u001b[0mmatplotlib\u001b[0m\u001b[1;33m.\u001b[0m\u001b[0mcbook\u001b[0m \u001b[1;32mimport\u001b[0m \u001b[0mMatplotlibDeprecationWarning\u001b[0m\u001b[1;33m,\u001b[0m \u001b[0msanitize_sequence\u001b[0m\u001b[1;33m\u001b[0m\u001b[1;33m\u001b[0m\u001b[0m\n\u001b[0;32m    111\u001b[0m \u001b[1;32mfrom\u001b[0m \u001b[0mmatplotlib\u001b[0m\u001b[1;33m.\u001b[0m\u001b[0mcbook\u001b[0m \u001b[1;32mimport\u001b[0m \u001b[0mmplDeprecation\u001b[0m  \u001b[1;31m# deprecated\u001b[0m\u001b[1;33m\u001b[0m\u001b[1;33m\u001b[0m\u001b[0m\n",
      "\u001b[1;32mc:\\Users\\jamile.santos\\Anaconda3\\lib\\site-packages\\matplotlib\\rcsetup.py\u001b[0m in \u001b[0;36m<module>\u001b[1;34m\u001b[0m\n\u001b[0;32m     25\u001b[0m \u001b[1;32mfrom\u001b[0m \u001b[0mmatplotlib\u001b[0m \u001b[1;32mimport\u001b[0m \u001b[0m_api\u001b[0m\u001b[1;33m,\u001b[0m \u001b[0mcbook\u001b[0m\u001b[1;33m\u001b[0m\u001b[1;33m\u001b[0m\u001b[0m\n\u001b[0;32m     26\u001b[0m \u001b[1;32mfrom\u001b[0m \u001b[0mmatplotlib\u001b[0m\u001b[1;33m.\u001b[0m\u001b[0mcbook\u001b[0m \u001b[1;32mimport\u001b[0m \u001b[0mls_mapper\u001b[0m\u001b[1;33m\u001b[0m\u001b[1;33m\u001b[0m\u001b[0m\n\u001b[1;32m---> 27\u001b[1;33m \u001b[1;32mfrom\u001b[0m \u001b[0mmatplotlib\u001b[0m\u001b[1;33m.\u001b[0m\u001b[0mcolors\u001b[0m \u001b[1;32mimport\u001b[0m \u001b[0mColormap\u001b[0m\u001b[1;33m,\u001b[0m \u001b[0mis_color_like\u001b[0m\u001b[1;33m\u001b[0m\u001b[1;33m\u001b[0m\u001b[0m\n\u001b[0m\u001b[0;32m     28\u001b[0m \u001b[1;32mfrom\u001b[0m \u001b[0mmatplotlib\u001b[0m\u001b[1;33m.\u001b[0m\u001b[0mfontconfig_pattern\u001b[0m \u001b[1;32mimport\u001b[0m \u001b[0mparse_fontconfig_pattern\u001b[0m\u001b[1;33m\u001b[0m\u001b[1;33m\u001b[0m\u001b[0m\n\u001b[0;32m     29\u001b[0m \u001b[1;32mfrom\u001b[0m \u001b[0mmatplotlib\u001b[0m\u001b[1;33m.\u001b[0m\u001b[0m_enums\u001b[0m \u001b[1;32mimport\u001b[0m \u001b[0mJoinStyle\u001b[0m\u001b[1;33m,\u001b[0m \u001b[0mCapStyle\u001b[0m\u001b[1;33m\u001b[0m\u001b[1;33m\u001b[0m\u001b[0m\n",
      "\u001b[1;32mc:\\Users\\jamile.santos\\Anaconda3\\lib\\site-packages\\matplotlib\\colors.py\u001b[0m in \u001b[0;36m<module>\u001b[1;34m\u001b[0m\n\u001b[0;32m     54\u001b[0m \u001b[1;32mimport\u001b[0m \u001b[0mmatplotlib\u001b[0m \u001b[1;32mas\u001b[0m \u001b[0mmpl\u001b[0m\u001b[1;33m\u001b[0m\u001b[1;33m\u001b[0m\u001b[0m\n\u001b[0;32m     55\u001b[0m \u001b[1;32mimport\u001b[0m \u001b[0mnumpy\u001b[0m \u001b[1;32mas\u001b[0m \u001b[0mnp\u001b[0m\u001b[1;33m\u001b[0m\u001b[1;33m\u001b[0m\u001b[0m\n\u001b[1;32m---> 56\u001b[1;33m \u001b[1;32mfrom\u001b[0m \u001b[0mmatplotlib\u001b[0m \u001b[1;32mimport\u001b[0m \u001b[0m_api\u001b[0m\u001b[1;33m,\u001b[0m \u001b[0mcbook\u001b[0m\u001b[1;33m,\u001b[0m \u001b[0mscale\u001b[0m\u001b[1;33m\u001b[0m\u001b[1;33m\u001b[0m\u001b[0m\n\u001b[0m\u001b[0;32m     57\u001b[0m \u001b[1;32mfrom\u001b[0m \u001b[1;33m.\u001b[0m\u001b[0m_color_data\u001b[0m \u001b[1;32mimport\u001b[0m \u001b[0mBASE_COLORS\u001b[0m\u001b[1;33m,\u001b[0m \u001b[0mTABLEAU_COLORS\u001b[0m\u001b[1;33m,\u001b[0m \u001b[0mCSS4_COLORS\u001b[0m\u001b[1;33m,\u001b[0m \u001b[0mXKCD_COLORS\u001b[0m\u001b[1;33m\u001b[0m\u001b[1;33m\u001b[0m\u001b[0m\n\u001b[0;32m     58\u001b[0m \u001b[1;33m\u001b[0m\u001b[0m\n",
      "\u001b[1;32mc:\\Users\\jamile.santos\\Anaconda3\\lib\\site-packages\\matplotlib\\scale.py\u001b[0m in \u001b[0;36m<module>\u001b[1;34m\u001b[0m\n\u001b[0;32m     21\u001b[0m \u001b[1;32mimport\u001b[0m \u001b[0mmatplotlib\u001b[0m \u001b[1;32mas\u001b[0m \u001b[0mmpl\u001b[0m\u001b[1;33m\u001b[0m\u001b[1;33m\u001b[0m\u001b[0m\n\u001b[0;32m     22\u001b[0m \u001b[1;32mfrom\u001b[0m \u001b[0mmatplotlib\u001b[0m \u001b[1;32mimport\u001b[0m \u001b[0m_api\u001b[0m\u001b[1;33m,\u001b[0m \u001b[0mdocstring\u001b[0m\u001b[1;33m\u001b[0m\u001b[1;33m\u001b[0m\u001b[0m\n\u001b[1;32m---> 23\u001b[1;33m from matplotlib.ticker import (\n\u001b[0m\u001b[0;32m     24\u001b[0m     \u001b[0mNullFormatter\u001b[0m\u001b[1;33m,\u001b[0m \u001b[0mScalarFormatter\u001b[0m\u001b[1;33m,\u001b[0m \u001b[0mLogFormatterSciNotation\u001b[0m\u001b[1;33m,\u001b[0m \u001b[0mLogitFormatter\u001b[0m\u001b[1;33m,\u001b[0m\u001b[1;33m\u001b[0m\u001b[1;33m\u001b[0m\u001b[0m\n\u001b[0;32m     25\u001b[0m     \u001b[0mNullLocator\u001b[0m\u001b[1;33m,\u001b[0m \u001b[0mLogLocator\u001b[0m\u001b[1;33m,\u001b[0m \u001b[0mAutoLocator\u001b[0m\u001b[1;33m,\u001b[0m \u001b[0mAutoMinorLocator\u001b[0m\u001b[1;33m,\u001b[0m\u001b[1;33m\u001b[0m\u001b[1;33m\u001b[0m\u001b[0m\n",
      "\u001b[1;32mc:\\Users\\jamile.santos\\Anaconda3\\lib\\site-packages\\matplotlib\\ticker.py\u001b[0m in \u001b[0;36m<module>\u001b[1;34m\u001b[0m\n\u001b[0;32m    134\u001b[0m \u001b[1;32mimport\u001b[0m \u001b[0mmatplotlib\u001b[0m \u001b[1;32mas\u001b[0m \u001b[0mmpl\u001b[0m\u001b[1;33m\u001b[0m\u001b[1;33m\u001b[0m\u001b[0m\n\u001b[0;32m    135\u001b[0m \u001b[1;32mfrom\u001b[0m \u001b[0mmatplotlib\u001b[0m \u001b[1;32mimport\u001b[0m \u001b[0m_api\u001b[0m\u001b[1;33m,\u001b[0m \u001b[0mcbook\u001b[0m\u001b[1;33m\u001b[0m\u001b[1;33m\u001b[0m\u001b[0m\n\u001b[1;32m--> 136\u001b[1;33m \u001b[1;32mfrom\u001b[0m \u001b[0mmatplotlib\u001b[0m \u001b[1;32mimport\u001b[0m \u001b[0mtransforms\u001b[0m \u001b[1;32mas\u001b[0m \u001b[0mmtransforms\u001b[0m\u001b[1;33m\u001b[0m\u001b[1;33m\u001b[0m\u001b[0m\n\u001b[0m\u001b[0;32m    137\u001b[0m \u001b[1;33m\u001b[0m\u001b[0m\n\u001b[0;32m    138\u001b[0m \u001b[0m_log\u001b[0m \u001b[1;33m=\u001b[0m \u001b[0mlogging\u001b[0m\u001b[1;33m.\u001b[0m\u001b[0mgetLogger\u001b[0m\u001b[1;33m(\u001b[0m\u001b[0m__name__\u001b[0m\u001b[1;33m)\u001b[0m\u001b[1;33m\u001b[0m\u001b[1;33m\u001b[0m\u001b[0m\n",
      "\u001b[1;32mc:\\Users\\jamile.santos\\Anaconda3\\lib\\site-packages\\matplotlib\\transforms.py\u001b[0m in \u001b[0;36m<module>\u001b[1;34m\u001b[0m\n\u001b[0;32m     44\u001b[0m \u001b[1;33m\u001b[0m\u001b[0m\n\u001b[0;32m     45\u001b[0m \u001b[1;32mfrom\u001b[0m \u001b[0mmatplotlib\u001b[0m \u001b[1;32mimport\u001b[0m \u001b[0m_api\u001b[0m\u001b[1;33m\u001b[0m\u001b[1;33m\u001b[0m\u001b[0m\n\u001b[1;32m---> 46\u001b[1;33m from matplotlib._path import (\n\u001b[0m\u001b[0;32m     47\u001b[0m     affine_transform, count_bboxes_overlapping_bbox, update_path_extents)\n\u001b[0;32m     48\u001b[0m \u001b[1;32mfrom\u001b[0m \u001b[1;33m.\u001b[0m\u001b[0mpath\u001b[0m \u001b[1;32mimport\u001b[0m \u001b[0mPath\u001b[0m\u001b[1;33m\u001b[0m\u001b[1;33m\u001b[0m\u001b[0m\n",
      "\u001b[1;31mImportError\u001b[0m: numpy.core.multiarray failed to import"
     ]
    }
   ],
   "source": [
    "# importando bibliotecas\n",
    "import pandas as pd\n",
    "import os\n",
    "import matplotlib.pyplot as plt\n",
    "import seaborn as sns"
   ]
  },
  {
   "cell_type": "markdown",
   "metadata": {},
   "source": [
    "##### Arquivo com as consultas em SQL pode ser encontrado logo abaixo:\n",
    "[Consultas Banco de Dados](https://drive.google.com/drive/folders/1NsSy3n-BtnGRFv4RsTd1uySDn5toIYZO?usp=drive_link)"
   ]
  },
  {
   "cell_type": "code",
   "execution_count": 2,
   "metadata": {},
   "outputs": [
    {
     "name": "stderr",
     "output_type": "stream",
     "text": [
      "C:\\Users\\Jamile\\AppData\\Local\\Temp\\ipykernel_9528\\2361631711.py:9: DtypeWarning: Columns (22,23) have mixed types. Specify dtype option on import or set low_memory=False.\n",
      "  nome_df = pd.read_csv(nome_arquivo, sep=';', encoding='latin-1')  # caminho completo\n"
     ]
    },
    {
     "name": "stdout",
     "output_type": "stream",
     "text": [
      "Nome do Arquivo:  infraçoes2023_01.csv\n"
     ]
    },
    {
     "name": "stderr",
     "output_type": "stream",
     "text": [
      "C:\\Users\\Jamile\\AppData\\Local\\Temp\\ipykernel_9528\\2361631711.py:9: DtypeWarning: Columns (22,23) have mixed types. Specify dtype option on import or set low_memory=False.\n",
      "  nome_df = pd.read_csv(nome_arquivo, sep=';', encoding='latin-1')  # caminho completo\n"
     ]
    },
    {
     "name": "stdout",
     "output_type": "stream",
     "text": [
      "Nome do Arquivo:  infraçoes2023_02.csv\n"
     ]
    },
    {
     "name": "stderr",
     "output_type": "stream",
     "text": [
      "C:\\Users\\Jamile\\AppData\\Local\\Temp\\ipykernel_9528\\2361631711.py:9: DtypeWarning: Columns (22,23) have mixed types. Specify dtype option on import or set low_memory=False.\n",
      "  nome_df = pd.read_csv(nome_arquivo, sep=';', encoding='latin-1')  # caminho completo\n"
     ]
    },
    {
     "name": "stdout",
     "output_type": "stream",
     "text": [
      "Nome do Arquivo:  infraçoes2023_03.csv\n"
     ]
    },
    {
     "name": "stderr",
     "output_type": "stream",
     "text": [
      "C:\\Users\\Jamile\\AppData\\Local\\Temp\\ipykernel_9528\\2361631711.py:9: DtypeWarning: Columns (22,23) have mixed types. Specify dtype option on import or set low_memory=False.\n",
      "  nome_df = pd.read_csv(nome_arquivo, sep=';', encoding='latin-1')  # caminho completo\n"
     ]
    },
    {
     "name": "stdout",
     "output_type": "stream",
     "text": [
      "Nome do Arquivo:  infraçoes2023_04.csv\n"
     ]
    },
    {
     "name": "stderr",
     "output_type": "stream",
     "text": [
      "C:\\Users\\Jamile\\AppData\\Local\\Temp\\ipykernel_9528\\2361631711.py:9: DtypeWarning: Columns (22,23) have mixed types. Specify dtype option on import or set low_memory=False.\n",
      "  nome_df = pd.read_csv(nome_arquivo, sep=';', encoding='latin-1')  # caminho completo\n"
     ]
    },
    {
     "name": "stdout",
     "output_type": "stream",
     "text": [
      "Nome do Arquivo:  infraçoes2023_05.csv\n"
     ]
    },
    {
     "name": "stderr",
     "output_type": "stream",
     "text": [
      "C:\\Users\\Jamile\\AppData\\Local\\Temp\\ipykernel_9528\\2361631711.py:9: DtypeWarning: Columns (22,23) have mixed types. Specify dtype option on import or set low_memory=False.\n",
      "  nome_df = pd.read_csv(nome_arquivo, sep=';', encoding='latin-1')  # caminho completo\n"
     ]
    },
    {
     "name": "stdout",
     "output_type": "stream",
     "text": [
      "Nome do Arquivo:  infraçoes2023_06.csv\n"
     ]
    },
    {
     "name": "stderr",
     "output_type": "stream",
     "text": [
      "C:\\Users\\Jamile\\AppData\\Local\\Temp\\ipykernel_9528\\2361631711.py:9: DtypeWarning: Columns (22,23) have mixed types. Specify dtype option on import or set low_memory=False.\n",
      "  nome_df = pd.read_csv(nome_arquivo, sep=';', encoding='latin-1')  # caminho completo\n"
     ]
    },
    {
     "name": "stdout",
     "output_type": "stream",
     "text": [
      "Nome do Arquivo:  infraçoes2023_07.csv\n"
     ]
    },
    {
     "name": "stderr",
     "output_type": "stream",
     "text": [
      "C:\\Users\\Jamile\\AppData\\Local\\Temp\\ipykernel_9528\\2361631711.py:9: DtypeWarning: Columns (22,23) have mixed types. Specify dtype option on import or set low_memory=False.\n",
      "  nome_df = pd.read_csv(nome_arquivo, sep=';', encoding='latin-1')  # caminho completo\n"
     ]
    },
    {
     "name": "stdout",
     "output_type": "stream",
     "text": [
      "Nome do Arquivo:  infraçoes2023_08.csv\n"
     ]
    },
    {
     "name": "stderr",
     "output_type": "stream",
     "text": [
      "C:\\Users\\Jamile\\AppData\\Local\\Temp\\ipykernel_9528\\2361631711.py:9: DtypeWarning: Columns (22,23) have mixed types. Specify dtype option on import or set low_memory=False.\n",
      "  nome_df = pd.read_csv(nome_arquivo, sep=';', encoding='latin-1')  # caminho completo\n"
     ]
    },
    {
     "name": "stdout",
     "output_type": "stream",
     "text": [
      "Nome do Arquivo:  infraçoes2023_09.csv\n"
     ]
    },
    {
     "name": "stderr",
     "output_type": "stream",
     "text": [
      "C:\\Users\\Jamile\\AppData\\Local\\Temp\\ipykernel_9528\\2361631711.py:9: DtypeWarning: Columns (22,23) have mixed types. Specify dtype option on import or set low_memory=False.\n",
      "  nome_df = pd.read_csv(nome_arquivo, sep=';', encoding='latin-1')  # caminho completo\n"
     ]
    },
    {
     "name": "stdout",
     "output_type": "stream",
     "text": [
      "Nome do Arquivo:  infraçoes2023_10.csv\n"
     ]
    },
    {
     "name": "stderr",
     "output_type": "stream",
     "text": [
      "C:\\Users\\Jamile\\AppData\\Local\\Temp\\ipykernel_9528\\2361631711.py:9: DtypeWarning: Columns (22,23) have mixed types. Specify dtype option on import or set low_memory=False.\n",
      "  nome_df = pd.read_csv(nome_arquivo, sep=';', encoding='latin-1')  # caminho completo\n"
     ]
    },
    {
     "name": "stdout",
     "output_type": "stream",
     "text": [
      "Nome do Arquivo:  infraçoes2023_11.csv\n"
     ]
    },
    {
     "name": "stderr",
     "output_type": "stream",
     "text": [
      "C:\\Users\\Jamile\\AppData\\Local\\Temp\\ipykernel_9528\\2361631711.py:9: DtypeWarning: Columns (22,23) have mixed types. Specify dtype option on import or set low_memory=False.\n",
      "  nome_df = pd.read_csv(nome_arquivo, sep=';', encoding='latin-1')  # caminho completo\n"
     ]
    },
    {
     "name": "stdout",
     "output_type": "stream",
     "text": [
      "Nome do Arquivo:  infraçoes2023_12.csv\n"
     ]
    }
   ],
   "source": [
    "lista_dataframe = []\n",
    "lista_nome = []\n",
    "diretorio = r\"C:\\Users\\Jamile\\Downloads\\ajustados_2023\"  # Certifique-se de que esse diretório existe\n",
    "\n",
    "# extraindo os arquivos da pasta\n",
    "for arq in os.listdir(diretorio):\n",
    "    if arq.endswith(\".csv\"):\n",
    "        nome_arquivo = os.path.join(diretorio, arq)  # usando os.path.join para formar o caminho\n",
    "        nome_df = pd.read_csv(nome_arquivo, sep=';', encoding='latin-1')  # caminho completo\n",
    "        print(\"Nome do Arquivo: \", arq)\n",
    "        lista_dataframe.append(nome_df) \n",
    "        x = arq.rfind(\".\")\n",
    "        lista_nome.append(arq[:x]) # adicionando à lista com os nomes sem o .csv"
   ]
  },
  {
   "cell_type": "code",
   "execution_count": 3,
   "metadata": {},
   "outputs": [],
   "source": [
    "contador = 1\n",
    "df_concatenado = lista_dataframe[0]\n",
    "for i in lista_dataframe[1:]:\n",
    "    df_concatenado = pd.concat([df_concatenado, i], ignore_index=True) # concatenando os dfs em um unico df  \n",
    "    contador += 1"
   ]
  },
  {
   "cell_type": "code",
   "execution_count": 4,
   "metadata": {},
   "outputs": [
    {
     "data": {
      "text/html": [
       "<div>\n",
       "<style scoped>\n",
       "    .dataframe tbody tr th:only-of-type {\n",
       "        vertical-align: middle;\n",
       "    }\n",
       "\n",
       "    .dataframe tbody tr th {\n",
       "        vertical-align: top;\n",
       "    }\n",
       "\n",
       "    .dataframe thead th {\n",
       "        text-align: right;\n",
       "    }\n",
       "</style>\n",
       "<table border=\"1\" class=\"dataframe\">\n",
       "  <thead>\n",
       "    <tr style=\"text-align: right;\">\n",
       "      <th></th>\n",
       "      <th>Número do Auto</th>\n",
       "      <th>Data da Infração (DD/MM/AAAA)</th>\n",
       "      <th>Indicador de Abordagem</th>\n",
       "      <th>Assinatura do Auto</th>\n",
       "      <th>Sentido Trafego</th>\n",
       "      <th>UF Infração</th>\n",
       "      <th>BR Infração</th>\n",
       "      <th>Km Infração</th>\n",
       "      <th>Município</th>\n",
       "      <th>Indicador Veiculo Estrangeiro</th>\n",
       "      <th>...</th>\n",
       "      <th>Código da Infração</th>\n",
       "      <th>Descrição Abreviada Infração</th>\n",
       "      <th>Enquadramento da Infração</th>\n",
       "      <th>Início Vigência da Infração</th>\n",
       "      <th>Fim Vigência Infração</th>\n",
       "      <th>Medição Infração</th>\n",
       "      <th>Hora Infração</th>\n",
       "      <th>Medição Considerada</th>\n",
       "      <th>Excesso Verificado</th>\n",
       "      <th>Qtd Infrações</th>\n",
       "    </tr>\n",
       "  </thead>\n",
       "  <tbody>\n",
       "    <tr>\n",
       "      <th>0</th>\n",
       "      <td>495b67987d451d7</td>\n",
       "      <td>2023-01-08</td>\n",
       "      <td>C</td>\n",
       "      <td>N</td>\n",
       "      <td>D</td>\n",
       "      <td>SC</td>\n",
       "      <td>101</td>\n",
       "      <td>232</td>\n",
       "      <td>PALHOCA</td>\n",
       "      <td>N</td>\n",
       "      <td>...</td>\n",
       "      <td>52820</td>\n",
       "      <td>Deixar o cond envolvido em acidente, de presta...</td>\n",
       "      <td>176 I</td>\n",
       "      <td>2016-11-01</td>\n",
       "      <td>NaN</td>\n",
       "      <td>Nenhuma</td>\n",
       "      <td>0</td>\n",
       "      <td>0</td>\n",
       "      <td>0</td>\n",
       "      <td>1</td>\n",
       "    </tr>\n",
       "    <tr>\n",
       "      <th>1</th>\n",
       "      <td>058ed7156330d68</td>\n",
       "      <td>2023-01-22</td>\n",
       "      <td>C</td>\n",
       "      <td>N</td>\n",
       "      <td>C</td>\n",
       "      <td>SC</td>\n",
       "      <td>101</td>\n",
       "      <td>190</td>\n",
       "      <td>BIGUACU</td>\n",
       "      <td>N</td>\n",
       "      <td>...</td>\n",
       "      <td>50100</td>\n",
       "      <td>Dirigir veículo sem possuir CNH/PPD/ACC</td>\n",
       "      <td>162 I</td>\n",
       "      <td>2016-11-01</td>\n",
       "      <td>NaN</td>\n",
       "      <td>Nenhuma</td>\n",
       "      <td>18</td>\n",
       "      <td>0</td>\n",
       "      <td>0</td>\n",
       "      <td>1</td>\n",
       "    </tr>\n",
       "    <tr>\n",
       "      <th>2</th>\n",
       "      <td>c39efce8850b3bd</td>\n",
       "      <td>2023-01-22</td>\n",
       "      <td>C</td>\n",
       "      <td>N</td>\n",
       "      <td>C</td>\n",
       "      <td>SC</td>\n",
       "      <td>101</td>\n",
       "      <td>190</td>\n",
       "      <td>BIGUACU</td>\n",
       "      <td>N</td>\n",
       "      <td>...</td>\n",
       "      <td>65992</td>\n",
       "      <td>Conduzir o veículo registrado que não esteja d...</td>\n",
       "      <td>230 * V</td>\n",
       "      <td>2016-11-01</td>\n",
       "      <td>NaN</td>\n",
       "      <td>Nenhuma</td>\n",
       "      <td>18</td>\n",
       "      <td>0</td>\n",
       "      <td>0</td>\n",
       "      <td>1</td>\n",
       "    </tr>\n",
       "    <tr>\n",
       "      <th>3</th>\n",
       "      <td>930dc8d45940042</td>\n",
       "      <td>2023-01-22</td>\n",
       "      <td>C</td>\n",
       "      <td>N</td>\n",
       "      <td>C</td>\n",
       "      <td>SC</td>\n",
       "      <td>101</td>\n",
       "      <td>190</td>\n",
       "      <td>BIGUACU</td>\n",
       "      <td>N</td>\n",
       "      <td>...</td>\n",
       "      <td>75790</td>\n",
       "      <td>Rec sub test,ex clin, peric ou proc q perm cer...</td>\n",
       "      <td>165-A</td>\n",
       "      <td>2016-11-01</td>\n",
       "      <td>NaN</td>\n",
       "      <td>Nenhuma</td>\n",
       "      <td>18</td>\n",
       "      <td>0</td>\n",
       "      <td>0</td>\n",
       "      <td>1</td>\n",
       "    </tr>\n",
       "    <tr>\n",
       "      <th>4</th>\n",
       "      <td>6a67324089e297e</td>\n",
       "      <td>2023-01-22</td>\n",
       "      <td>C</td>\n",
       "      <td>N</td>\n",
       "      <td>C</td>\n",
       "      <td>SC</td>\n",
       "      <td>101</td>\n",
       "      <td>190</td>\n",
       "      <td>BIGUACU</td>\n",
       "      <td>N</td>\n",
       "      <td>...</td>\n",
       "      <td>67261</td>\n",
       "      <td>Conduzir o veículo em mau estado de conservaçã...</td>\n",
       "      <td>230 XVIII</td>\n",
       "      <td>2016-11-01</td>\n",
       "      <td>NaN</td>\n",
       "      <td>Nenhuma</td>\n",
       "      <td>18</td>\n",
       "      <td>0</td>\n",
       "      <td>0</td>\n",
       "      <td>1</td>\n",
       "    </tr>\n",
       "    <tr>\n",
       "      <th>...</th>\n",
       "      <td>...</td>\n",
       "      <td>...</td>\n",
       "      <td>...</td>\n",
       "      <td>...</td>\n",
       "      <td>...</td>\n",
       "      <td>...</td>\n",
       "      <td>...</td>\n",
       "      <td>...</td>\n",
       "      <td>...</td>\n",
       "      <td>...</td>\n",
       "      <td>...</td>\n",
       "      <td>...</td>\n",
       "      <td>...</td>\n",
       "      <td>...</td>\n",
       "      <td>...</td>\n",
       "      <td>...</td>\n",
       "      <td>...</td>\n",
       "      <td>...</td>\n",
       "      <td>...</td>\n",
       "      <td>...</td>\n",
       "      <td>...</td>\n",
       "    </tr>\n",
       "    <tr>\n",
       "      <th>5946478</th>\n",
       "      <td>33356e62e21fcd0</td>\n",
       "      <td>2023-12-29</td>\n",
       "      <td>C</td>\n",
       "      <td>N</td>\n",
       "      <td>C</td>\n",
       "      <td>SC</td>\n",
       "      <td>470</td>\n",
       "      <td>57</td>\n",
       "      <td>BLUMENAU</td>\n",
       "      <td>N</td>\n",
       "      <td>...</td>\n",
       "      <td>57200</td>\n",
       "      <td>Transitar pela contramão de direção em via com...</td>\n",
       "      <td>186 I</td>\n",
       "      <td>2016-11-01</td>\n",
       "      <td>NaN</td>\n",
       "      <td>Nenhuma</td>\n",
       "      <td>14</td>\n",
       "      <td>0</td>\n",
       "      <td>0</td>\n",
       "      <td>1</td>\n",
       "    </tr>\n",
       "    <tr>\n",
       "      <th>5946479</th>\n",
       "      <td>01f9ef7d58c27a5</td>\n",
       "      <td>2023-12-29</td>\n",
       "      <td>C</td>\n",
       "      <td>N</td>\n",
       "      <td>C</td>\n",
       "      <td>SC</td>\n",
       "      <td>470</td>\n",
       "      <td>57</td>\n",
       "      <td>BLUMENAU</td>\n",
       "      <td>N</td>\n",
       "      <td>...</td>\n",
       "      <td>60412</td>\n",
       "      <td>Executar operação de conversão à esquerda em l...</td>\n",
       "      <td>207</td>\n",
       "      <td>2016-11-01</td>\n",
       "      <td>NaN</td>\n",
       "      <td>Nenhuma</td>\n",
       "      <td>14</td>\n",
       "      <td>0</td>\n",
       "      <td>0</td>\n",
       "      <td>1</td>\n",
       "    </tr>\n",
       "    <tr>\n",
       "      <th>5946480</th>\n",
       "      <td>892ed03b9e1583a</td>\n",
       "      <td>2023-12-29</td>\n",
       "      <td>C</td>\n",
       "      <td>N</td>\n",
       "      <td>C</td>\n",
       "      <td>SC</td>\n",
       "      <td>470</td>\n",
       "      <td>52</td>\n",
       "      <td>BLUMENAU</td>\n",
       "      <td>N</td>\n",
       "      <td>...</td>\n",
       "      <td>76842</td>\n",
       "      <td>Conduzir motoc/ moton/ ciclom c/ útil capacete...</td>\n",
       "      <td>244 X</td>\n",
       "      <td>2021-04-12</td>\n",
       "      <td>NaN</td>\n",
       "      <td>Nenhuma</td>\n",
       "      <td>16</td>\n",
       "      <td>0</td>\n",
       "      <td>0</td>\n",
       "      <td>1</td>\n",
       "    </tr>\n",
       "    <tr>\n",
       "      <th>5946481</th>\n",
       "      <td>629e51f826a2aa0</td>\n",
       "      <td>2023-12-29</td>\n",
       "      <td>S</td>\n",
       "      <td>N</td>\n",
       "      <td>C</td>\n",
       "      <td>SC</td>\n",
       "      <td>470</td>\n",
       "      <td>52</td>\n",
       "      <td>BLUMENAU</td>\n",
       "      <td>N</td>\n",
       "      <td>...</td>\n",
       "      <td>66020</td>\n",
       "      <td>Conduzir o veículo com qualquer uma das placas...</td>\n",
       "      <td>230 VI</td>\n",
       "      <td>2016-11-01</td>\n",
       "      <td>NaN</td>\n",
       "      <td>Nenhuma</td>\n",
       "      <td>16</td>\n",
       "      <td>0</td>\n",
       "      <td>0</td>\n",
       "      <td>1</td>\n",
       "    </tr>\n",
       "    <tr>\n",
       "      <th>5946482</th>\n",
       "      <td>8c076b2427e608a</td>\n",
       "      <td>2023-12-29</td>\n",
       "      <td>S</td>\n",
       "      <td>N</td>\n",
       "      <td>C</td>\n",
       "      <td>SC</td>\n",
       "      <td>470</td>\n",
       "      <td>52</td>\n",
       "      <td>BLUMENAU</td>\n",
       "      <td>N</td>\n",
       "      <td>...</td>\n",
       "      <td>65992</td>\n",
       "      <td>Conduzir o veículo registrado que não esteja d...</td>\n",
       "      <td>230 * V</td>\n",
       "      <td>2016-11-01</td>\n",
       "      <td>NaN</td>\n",
       "      <td>Nenhuma</td>\n",
       "      <td>16</td>\n",
       "      <td>0</td>\n",
       "      <td>0</td>\n",
       "      <td>1</td>\n",
       "    </tr>\n",
       "  </tbody>\n",
       "</table>\n",
       "<p>5946483 rows × 25 columns</p>\n",
       "</div>"
      ],
      "text/plain": [
       "          Número do Auto Data da Infração (DD/MM/AAAA) Indicador de Abordagem  \\\n",
       "0        495b67987d451d7                    2023-01-08                      C   \n",
       "1        058ed7156330d68                    2023-01-22                      C   \n",
       "2        c39efce8850b3bd                    2023-01-22                      C   \n",
       "3        930dc8d45940042                    2023-01-22                      C   \n",
       "4        6a67324089e297e                    2023-01-22                      C   \n",
       "...                  ...                           ...                    ...   \n",
       "5946478  33356e62e21fcd0                    2023-12-29                      C   \n",
       "5946479  01f9ef7d58c27a5                    2023-12-29                      C   \n",
       "5946480  892ed03b9e1583a                    2023-12-29                      C   \n",
       "5946481  629e51f826a2aa0                    2023-12-29                      S   \n",
       "5946482  8c076b2427e608a                    2023-12-29                      S   \n",
       "\n",
       "        Assinatura do Auto Sentido Trafego UF Infração  BR Infração  \\\n",
       "0                        N               D          SC          101   \n",
       "1                        N               C          SC          101   \n",
       "2                        N               C          SC          101   \n",
       "3                        N               C          SC          101   \n",
       "4                        N               C          SC          101   \n",
       "...                    ...             ...         ...          ...   \n",
       "5946478                  N               C          SC          470   \n",
       "5946479                  N               C          SC          470   \n",
       "5946480                  N               C          SC          470   \n",
       "5946481                  N               C          SC          470   \n",
       "5946482                  N               C          SC          470   \n",
       "\n",
       "         Km Infração Município Indicador Veiculo Estrangeiro  ...  \\\n",
       "0                232   PALHOCA                             N  ...   \n",
       "1                190   BIGUACU                             N  ...   \n",
       "2                190   BIGUACU                             N  ...   \n",
       "3                190   BIGUACU                             N  ...   \n",
       "4                190   BIGUACU                             N  ...   \n",
       "...              ...       ...                           ...  ...   \n",
       "5946478           57  BLUMENAU                             N  ...   \n",
       "5946479           57  BLUMENAU                             N  ...   \n",
       "5946480           52  BLUMENAU                             N  ...   \n",
       "5946481           52  BLUMENAU                             N  ...   \n",
       "5946482           52  BLUMENAU                             N  ...   \n",
       "\n",
       "        Código da Infração                       Descrição Abreviada Infração  \\\n",
       "0                    52820  Deixar o cond envolvido em acidente, de presta...   \n",
       "1                    50100            Dirigir veículo sem possuir CNH/PPD/ACC   \n",
       "2                    65992  Conduzir o veículo registrado que não esteja d...   \n",
       "3                    75790  Rec sub test,ex clin, peric ou proc q perm cer...   \n",
       "4                    67261  Conduzir o veículo em mau estado de conservaçã...   \n",
       "...                    ...                                                ...   \n",
       "5946478              57200  Transitar pela contramão de direção em via com...   \n",
       "5946479              60412  Executar operação de conversão à esquerda em l...   \n",
       "5946480              76842  Conduzir motoc/ moton/ ciclom c/ útil capacete...   \n",
       "5946481              66020  Conduzir o veículo com qualquer uma das placas...   \n",
       "5946482              65992  Conduzir o veículo registrado que não esteja d...   \n",
       "\n",
       "        Enquadramento da Infração Início Vigência da Infração  \\\n",
       "0                           176 I                  2016-11-01   \n",
       "1                           162 I                  2016-11-01   \n",
       "2                         230 * V                  2016-11-01   \n",
       "3                           165-A                  2016-11-01   \n",
       "4                       230 XVIII                  2016-11-01   \n",
       "...                           ...                         ...   \n",
       "5946478                     186 I                  2016-11-01   \n",
       "5946479                       207                  2016-11-01   \n",
       "5946480                     244 X                  2021-04-12   \n",
       "5946481                    230 VI                  2016-11-01   \n",
       "5946482                   230 * V                  2016-11-01   \n",
       "\n",
       "        Fim Vigência Infração  Medição Infração Hora Infração  \\\n",
       "0                         NaN           Nenhuma             0   \n",
       "1                         NaN           Nenhuma            18   \n",
       "2                         NaN           Nenhuma            18   \n",
       "3                         NaN           Nenhuma            18   \n",
       "4                         NaN           Nenhuma            18   \n",
       "...                       ...               ...           ...   \n",
       "5946478                   NaN           Nenhuma            14   \n",
       "5946479                   NaN           Nenhuma            14   \n",
       "5946480                   NaN           Nenhuma            16   \n",
       "5946481                   NaN           Nenhuma            16   \n",
       "5946482                   NaN           Nenhuma            16   \n",
       "\n",
       "        Medição Considerada Excesso Verificado  Qtd Infrações  \n",
       "0                         0                  0              1  \n",
       "1                         0                  0              1  \n",
       "2                         0                  0              1  \n",
       "3                         0                  0              1  \n",
       "4                         0                  0              1  \n",
       "...                     ...                ...            ...  \n",
       "5946478                   0                  0              1  \n",
       "5946479                   0                  0              1  \n",
       "5946480                   0                  0              1  \n",
       "5946481                   0                  0              1  \n",
       "5946482                   0                  0              1  \n",
       "\n",
       "[5946483 rows x 25 columns]"
      ]
     },
     "execution_count": 4,
     "metadata": {},
     "output_type": "execute_result"
    }
   ],
   "source": [
    "df_concatenado"
   ]
  },
  {
   "cell_type": "code",
   "execution_count": 5,
   "metadata": {},
   "outputs": [],
   "source": [
    "ba = df_concatenado['UF Infração'] == 'BA' # filtrando apenas o estado BA\n",
    "df_concatenado_ba = df_concatenado[ba]"
   ]
  },
  {
   "cell_type": "code",
   "execution_count": 6,
   "metadata": {},
   "outputs": [],
   "source": [
    "# mudando o nome C para o real significado = Com abondagem ou Sem abordagem\n",
    "df_concatenado_ba.loc[df_concatenado_ba['Indicador de Abordagem'] == 'C', 'Indicador de Abordagem'] = 'Com abordagem'\n",
    "df_concatenado_ba.loc[df_concatenado_ba['Indicador de Abordagem'] == 'S', 'Indicador de Abordagem'] = 'Sem abordagem'"
   ]
  },
  {
   "attachments": {
    "image.png": {
     "image/png": "[encoded data removed]"
    }
   },
   "cell_type": "markdown",
   "metadata": {},
   "source": [
    "[Turno do dia - Horário](https://www12.senado.leg.br/manualdecomunicacao/estilos/hora#:~:text=A%20madrugada%20vai%20da%200h,ou%20%C3%A0%20meia%2Dnoite)\n",
    "\n",
    "![image.png](attachment:image.png)"
   ]
  },
  {
   "cell_type": "code",
   "execution_count": 8,
   "metadata": {},
   "outputs": [],
   "source": [
    "#criando uma copiad do df original\n",
    "df_concatenado_ba = df_concatenado_ba.copy()\n",
    "\n",
    "df_concatenado_ba['Turno'] = '' # criando a serie turno conforme os respectivos horários\n",
    "\n",
    "df_concatenado_ba.loc[(df_concatenado_ba['Hora Infração'] >= 0) & (df_concatenado_ba['Hora Infração'] <= 6), 'Turno'] = 'Madrugada'\n",
    "df_concatenado_ba.loc[(df_concatenado_ba['Hora Infração'] >= 7) & (df_concatenado_ba['Hora Infração'] <= 11), 'Turno'] = 'Manhã'\n",
    "df_concatenado_ba.loc[(df_concatenado_ba['Hora Infração'] >= 12) & (df_concatenado_ba['Hora Infração'] <= 18), 'Turno'] = 'Tarde'\n",
    "df_concatenado_ba.loc[(df_concatenado_ba['Hora Infração'] >= 19) & (df_concatenado_ba['Hora Infração'] <= 23), 'Turno'] = 'Noite'"
   ]
  },
  {
   "cell_type": "code",
   "execution_count": 9,
   "metadata": {},
   "outputs": [],
   "source": [
    "#criando uma copiad do df original\n",
    "df_concatenado_ba = df_concatenado_ba.copy()\n",
    "\n",
    "# transformando a serie Data da Infração (DD/MM/AAAA) em formato data\n",
    "df_concatenado_ba['Data da Infração (DD/MM/AAAA)'] = pd.to_datetime(df_concatenado_ba['Data da Infração (DD/MM/AAAA)'], format='%Y-%m-%d')"
   ]
  },
  {
   "cell_type": "code",
   "execution_count": 10,
   "metadata": {},
   "outputs": [],
   "source": [
    "#criando uma copiad do df original\n",
    "df_concatenado_ba = df_concatenado_ba.copy()\n",
    "\n",
    "# criando uma nova serie Mês extraindo o mês da coluna de datas\n",
    "df_concatenado_ba['Mês'] = df_concatenado_ba['Data da Infração (DD/MM/AAAA)'].dt.month"
   ]
  },
  {
   "cell_type": "code",
   "execution_count": 11,
   "metadata": {},
   "outputs": [],
   "source": [
    "#criando uma copiad do df original\n",
    "df_concatenado_ba = df_concatenado_ba.copy()\n",
    "\n",
    "# transformando o tipo e mudando o formato da data\n",
    "df_concatenado_ba['Data da Infração (DD/MM/AAAA)'] = df_concatenado_ba['Data da Infração (DD/MM/AAAA)'].dt.strftime('%d/%m/%Y')"
   ]
  },
  {
   "cell_type": "code",
   "execution_count": 12,
   "metadata": {},
   "outputs": [],
   "source": [
    "#criando uma copiad do df original\n",
    "df_concatenado_ba = df_concatenado_ba.copy()\n",
    "\n",
    "# criando a serie Nome Mês a partir da serie Mês\n",
    "df_concatenado_ba['Nome Mês'] = ''\n",
    "\n",
    "df_concatenado_ba.loc[df_concatenado_ba['Mês'] == 1, 'Nome Mês'] = 'Janeiro'\n",
    "df_concatenado_ba.loc[df_concatenado_ba['Mês'] == 2, 'Nome Mês'] = 'Fevereiro'\n",
    "df_concatenado_ba.loc[df_concatenado_ba['Mês'] == 3, 'Nome Mês'] = 'Março'\n",
    "df_concatenado_ba.loc[df_concatenado_ba['Mês'] == 4, 'Nome Mês'] = 'Abril'\n",
    "df_concatenado_ba.loc[df_concatenado_ba['Mês'] == 5, 'Nome Mês'] = 'Maio'\n",
    "df_concatenado_ba.loc[df_concatenado_ba['Mês'] == 6, 'Nome Mês'] = 'Junho'\n",
    "df_concatenado_ba.loc[df_concatenado_ba['Mês'] == 7, 'Nome Mês'] = 'Julho'\n",
    "df_concatenado_ba.loc[df_concatenado_ba['Mês'] == 8, 'Nome Mês'] = 'Agosto'\n",
    "df_concatenado_ba.loc[df_concatenado_ba['Mês'] == 9, 'Nome Mês'] = 'Setembro'\n",
    "df_concatenado_ba.loc[df_concatenado_ba['Mês'] == 10, 'Nome Mês'] = 'Outubro'\n",
    "df_concatenado_ba.loc[df_concatenado_ba['Mês'] == 11, 'Nome Mês'] = 'Novembro'\n",
    "df_concatenado_ba.loc[df_concatenado_ba['Mês'] == 12, 'Nome Mês'] = 'Dezembro'"
   ]
  },
  {
   "cell_type": "code",
   "execution_count": 13,
   "metadata": {},
   "outputs": [
    {
     "data": {
      "text/html": [
       "<div>\n",
       "<style scoped>\n",
       "    .dataframe tbody tr th:only-of-type {\n",
       "        vertical-align: middle;\n",
       "    }\n",
       "\n",
       "    .dataframe tbody tr th {\n",
       "        vertical-align: top;\n",
       "    }\n",
       "\n",
       "    .dataframe thead th {\n",
       "        text-align: right;\n",
       "    }\n",
       "</style>\n",
       "<table border=\"1\" class=\"dataframe\">\n",
       "  <thead>\n",
       "    <tr style=\"text-align: right;\">\n",
       "      <th></th>\n",
       "      <th>Data da Infração (DD/MM/AAAA)</th>\n",
       "      <th>Nome Mês</th>\n",
       "      <th>Município</th>\n",
       "      <th>BR Infração</th>\n",
       "      <th>Turno</th>\n",
       "      <th>Indicador de Abordagem</th>\n",
       "      <th>Descrição Tipo Veículo</th>\n",
       "      <th>Descrição Abreviada Infração</th>\n",
       "      <th>Medição Infração</th>\n",
       "      <th>Qtd Infrações</th>\n",
       "    </tr>\n",
       "  </thead>\n",
       "  <tbody>\n",
       "    <tr>\n",
       "      <th>84</th>\n",
       "      <td>21/01/2023</td>\n",
       "      <td>Janeiro</td>\n",
       "      <td>JUAZEIRO</td>\n",
       "      <td>407</td>\n",
       "      <td>Tarde</td>\n",
       "      <td>Com abordagem</td>\n",
       "      <td>MOTOCICLETA</td>\n",
       "      <td>Dirigir veículo sem possuir CNH/PPD/ACC</td>\n",
       "      <td>Nenhuma</td>\n",
       "      <td>1</td>\n",
       "    </tr>\n",
       "    <tr>\n",
       "      <th>86</th>\n",
       "      <td>22/01/2023</td>\n",
       "      <td>Janeiro</td>\n",
       "      <td>JUAZEIRO</td>\n",
       "      <td>407</td>\n",
       "      <td>Tarde</td>\n",
       "      <td>Com abordagem</td>\n",
       "      <td>MOTOCICLETA</td>\n",
       "      <td>Rec sub test,ex clin, peric ou proc q perm cer...</td>\n",
       "      <td>Nenhuma</td>\n",
       "      <td>1</td>\n",
       "    </tr>\n",
       "    <tr>\n",
       "      <th>2338</th>\n",
       "      <td>01/01/2023</td>\n",
       "      <td>Janeiro</td>\n",
       "      <td>SALVADOR</td>\n",
       "      <td>324</td>\n",
       "      <td>Madrugada</td>\n",
       "      <td>Sem abordagem</td>\n",
       "      <td>AUTOMOVEL</td>\n",
       "      <td>Transitar em velocidade superior à máxima perm...</td>\n",
       "      <td>Veiculo</td>\n",
       "      <td>1</td>\n",
       "    </tr>\n",
       "    <tr>\n",
       "      <th>2360</th>\n",
       "      <td>01/01/2023</td>\n",
       "      <td>Janeiro</td>\n",
       "      <td>FEIRA DE SANTANA</td>\n",
       "      <td>324</td>\n",
       "      <td>Madrugada</td>\n",
       "      <td>Sem abordagem</td>\n",
       "      <td>AUTOMOVEL</td>\n",
       "      <td>Transitar em velocidade superior à máxima perm...</td>\n",
       "      <td>Veiculo</td>\n",
       "      <td>1</td>\n",
       "    </tr>\n",
       "    <tr>\n",
       "      <th>2370</th>\n",
       "      <td>01/01/2023</td>\n",
       "      <td>Janeiro</td>\n",
       "      <td>SALVADOR</td>\n",
       "      <td>324</td>\n",
       "      <td>Madrugada</td>\n",
       "      <td>Sem abordagem</td>\n",
       "      <td>AUTOMOVEL</td>\n",
       "      <td>Transitar em velocidade superior à máxima perm...</td>\n",
       "      <td>Veiculo</td>\n",
       "      <td>1</td>\n",
       "    </tr>\n",
       "    <tr>\n",
       "      <th>...</th>\n",
       "      <td>...</td>\n",
       "      <td>...</td>\n",
       "      <td>...</td>\n",
       "      <td>...</td>\n",
       "      <td>...</td>\n",
       "      <td>...</td>\n",
       "      <td>...</td>\n",
       "      <td>...</td>\n",
       "      <td>...</td>\n",
       "      <td>...</td>\n",
       "    </tr>\n",
       "    <tr>\n",
       "      <th>5945640</th>\n",
       "      <td>29/12/2023</td>\n",
       "      <td>Dezembro</td>\n",
       "      <td>JEQUIE</td>\n",
       "      <td>116</td>\n",
       "      <td>Manhã</td>\n",
       "      <td>Sem abordagem</td>\n",
       "      <td>AUTOMOVEL</td>\n",
       "      <td>Em mov deix de man aces luz baixa de dia, em r...</td>\n",
       "      <td>Nenhuma</td>\n",
       "      <td>1</td>\n",
       "    </tr>\n",
       "    <tr>\n",
       "      <th>5946127</th>\n",
       "      <td>29/12/2023</td>\n",
       "      <td>Dezembro</td>\n",
       "      <td>JEQUIE</td>\n",
       "      <td>116</td>\n",
       "      <td>Manhã</td>\n",
       "      <td>Sem abordagem</td>\n",
       "      <td>AUTOMOVEL</td>\n",
       "      <td>Em mov deix de man aces luz baixa de dia, em r...</td>\n",
       "      <td>Nenhuma</td>\n",
       "      <td>1</td>\n",
       "    </tr>\n",
       "    <tr>\n",
       "      <th>5946128</th>\n",
       "      <td>29/12/2023</td>\n",
       "      <td>Dezembro</td>\n",
       "      <td>JEQUIE</td>\n",
       "      <td>116</td>\n",
       "      <td>Manhã</td>\n",
       "      <td>Sem abordagem</td>\n",
       "      <td>AUTOMOVEL</td>\n",
       "      <td>Em mov deix de man aces luz baixa de dia, em r...</td>\n",
       "      <td>Nenhuma</td>\n",
       "      <td>1</td>\n",
       "    </tr>\n",
       "    <tr>\n",
       "      <th>5946129</th>\n",
       "      <td>29/12/2023</td>\n",
       "      <td>Dezembro</td>\n",
       "      <td>JEQUIE</td>\n",
       "      <td>116</td>\n",
       "      <td>Manhã</td>\n",
       "      <td>Sem abordagem</td>\n",
       "      <td>AUTOMOVEL</td>\n",
       "      <td>Em mov deix de man aces luz baixa de dia, em r...</td>\n",
       "      <td>Nenhuma</td>\n",
       "      <td>1</td>\n",
       "    </tr>\n",
       "    <tr>\n",
       "      <th>5946130</th>\n",
       "      <td>29/12/2023</td>\n",
       "      <td>Dezembro</td>\n",
       "      <td>JEQUIE</td>\n",
       "      <td>116</td>\n",
       "      <td>Manhã</td>\n",
       "      <td>Sem abordagem</td>\n",
       "      <td>CAMINHAO</td>\n",
       "      <td>Em mov deix de man aces luz baixa de dia, em r...</td>\n",
       "      <td>Nenhuma</td>\n",
       "      <td>1</td>\n",
       "    </tr>\n",
       "  </tbody>\n",
       "</table>\n",
       "<p>283033 rows × 10 columns</p>\n",
       "</div>"
      ],
      "text/plain": [
       "        Data da Infração (DD/MM/AAAA)  Nome Mês         Município  \\\n",
       "84                         21/01/2023   Janeiro          JUAZEIRO   \n",
       "86                         22/01/2023   Janeiro          JUAZEIRO   \n",
       "2338                       01/01/2023   Janeiro          SALVADOR   \n",
       "2360                       01/01/2023   Janeiro  FEIRA DE SANTANA   \n",
       "2370                       01/01/2023   Janeiro          SALVADOR   \n",
       "...                               ...       ...               ...   \n",
       "5945640                    29/12/2023  Dezembro            JEQUIE   \n",
       "5946127                    29/12/2023  Dezembro            JEQUIE   \n",
       "5946128                    29/12/2023  Dezembro            JEQUIE   \n",
       "5946129                    29/12/2023  Dezembro            JEQUIE   \n",
       "5946130                    29/12/2023  Dezembro            JEQUIE   \n",
       "\n",
       "         BR Infração      Turno Indicador de Abordagem Descrição Tipo Veículo  \\\n",
       "84               407      Tarde          Com abordagem            MOTOCICLETA   \n",
       "86               407      Tarde          Com abordagem            MOTOCICLETA   \n",
       "2338             324  Madrugada          Sem abordagem              AUTOMOVEL   \n",
       "2360             324  Madrugada          Sem abordagem              AUTOMOVEL   \n",
       "2370             324  Madrugada          Sem abordagem              AUTOMOVEL   \n",
       "...              ...        ...                    ...                    ...   \n",
       "5945640          116      Manhã          Sem abordagem              AUTOMOVEL   \n",
       "5946127          116      Manhã          Sem abordagem              AUTOMOVEL   \n",
       "5946128          116      Manhã          Sem abordagem              AUTOMOVEL   \n",
       "5946129          116      Manhã          Sem abordagem              AUTOMOVEL   \n",
       "5946130          116      Manhã          Sem abordagem               CAMINHAO   \n",
       "\n",
       "                              Descrição Abreviada Infração Medição Infração  \\\n",
       "84                 Dirigir veículo sem possuir CNH/PPD/ACC          Nenhuma   \n",
       "86       Rec sub test,ex clin, peric ou proc q perm cer...          Nenhuma   \n",
       "2338     Transitar em velocidade superior à máxima perm...          Veiculo   \n",
       "2360     Transitar em velocidade superior à máxima perm...          Veiculo   \n",
       "2370     Transitar em velocidade superior à máxima perm...          Veiculo   \n",
       "...                                                    ...              ...   \n",
       "5945640  Em mov deix de man aces luz baixa de dia, em r...          Nenhuma   \n",
       "5946127  Em mov deix de man aces luz baixa de dia, em r...          Nenhuma   \n",
       "5946128  Em mov deix de man aces luz baixa de dia, em r...          Nenhuma   \n",
       "5946129  Em mov deix de man aces luz baixa de dia, em r...          Nenhuma   \n",
       "5946130  Em mov deix de man aces luz baixa de dia, em r...          Nenhuma   \n",
       "\n",
       "         Qtd Infrações  \n",
       "84                   1  \n",
       "86                   1  \n",
       "2338                 1  \n",
       "2360                 1  \n",
       "2370                 1  \n",
       "...                ...  \n",
       "5945640              1  \n",
       "5946127              1  \n",
       "5946128              1  \n",
       "5946129              1  \n",
       "5946130              1  \n",
       "\n",
       "[283033 rows x 10 columns]"
      ]
     },
     "execution_count": 13,
     "metadata": {},
     "output_type": "execute_result"
    }
   ],
   "source": [
    "# definindo quais series do df serão utilizadas\n",
    "df_concatenado_ba = df_concatenado_ba[['Data da Infração (DD/MM/AAAA)','Nome Mês','Município','BR Infração','Turno','Indicador de Abordagem','Descrição Tipo Veículo','Descrição Abreviada Infração','Medição Infração','Qtd Infrações']]\n",
    "\n",
    "df_concatenado_ba\n"
   ]
  },
  {
   "cell_type": "code",
   "execution_count": 14,
   "metadata": {},
   "outputs": [],
   "source": [
    "# renomeando as series do df\n",
    "df_concatenado_ba = df_concatenado_ba.rename(columns={'Data da Infração (DD/MM/AAAA)': 'Data da Infração','Nome Mês':'Mês','Qtd Infrações': 'Qtde Infrações','Descrição Tipo Veículo':'Tipo Veículo','Descrição Abreviada Infração':'Descrição Infração' })"
   ]
  },
  {
   "cell_type": "code",
   "execution_count": 15,
   "metadata": {},
   "outputs": [
    {
     "data": {
      "text/plain": [
       "Data da Infração            0\n",
       "Mês                         0\n",
       "Município                   0\n",
       "BR Infração                 0\n",
       "Turno                       0\n",
       "Indicador de Abordagem      0\n",
       "Tipo Veículo              149\n",
       "Descrição Infração          0\n",
       "Medição Infração            0\n",
       "Qtde Infrações              0\n",
       "dtype: int64"
      ]
     },
     "execution_count": 15,
     "metadata": {},
     "output_type": "execute_result"
    }
   ],
   "source": [
    "# verificando a qtde de nulos\n",
    "nulos_por_coluna = df_concatenado_ba.isnull().sum()\n",
    "nulos_por_coluna"
   ]
  },
  {
   "cell_type": "code",
   "execution_count": 16,
   "metadata": {},
   "outputs": [],
   "source": [
    "# substituindo os nulos\n",
    "df_concatenado_ba = df_concatenado_ba.fillna('Não informado')"
   ]
  },
  {
   "cell_type": "code",
   "execution_count": 17,
   "metadata": {},
   "outputs": [
    {
     "data": {
      "text/plain": [
       "Data da Infração          0\n",
       "Mês                       0\n",
       "Município                 0\n",
       "BR Infração               0\n",
       "Turno                     0\n",
       "Indicador de Abordagem    0\n",
       "Tipo Veículo              0\n",
       "Descrição Infração        0\n",
       "Medição Infração          0\n",
       "Qtde Infrações            0\n",
       "dtype: int64"
      ]
     },
     "execution_count": 17,
     "metadata": {},
     "output_type": "execute_result"
    }
   ],
   "source": [
    "# verificando se realmente foi substituido\n",
    "nulos_por_coluna = df_concatenado_ba.isnull().sum()\n",
    "nulos_por_coluna"
   ]
  },
  {
   "cell_type": "code",
   "execution_count": 18,
   "metadata": {},
   "outputs": [
    {
     "data": {
      "text/html": [
       "<div>\n",
       "<style scoped>\n",
       "    .dataframe tbody tr th:only-of-type {\n",
       "        vertical-align: middle;\n",
       "    }\n",
       "\n",
       "    .dataframe tbody tr th {\n",
       "        vertical-align: top;\n",
       "    }\n",
       "\n",
       "    .dataframe thead th {\n",
       "        text-align: right;\n",
       "    }\n",
       "</style>\n",
       "<table border=\"1\" class=\"dataframe\">\n",
       "  <thead>\n",
       "    <tr style=\"text-align: right;\">\n",
       "      <th></th>\n",
       "      <th>Data da Infração</th>\n",
       "      <th>Mês</th>\n",
       "      <th>Município</th>\n",
       "      <th>BR Infração</th>\n",
       "      <th>Turno</th>\n",
       "      <th>Indicador de Abordagem</th>\n",
       "      <th>Tipo Veículo</th>\n",
       "      <th>Descrição Infração</th>\n",
       "      <th>Medição Infração</th>\n",
       "      <th>Qtde Infrações</th>\n",
       "    </tr>\n",
       "  </thead>\n",
       "  <tbody>\n",
       "    <tr>\n",
       "      <th>84</th>\n",
       "      <td>21/01/2023</td>\n",
       "      <td>Janeiro</td>\n",
       "      <td>JUAZEIRO</td>\n",
       "      <td>407</td>\n",
       "      <td>Tarde</td>\n",
       "      <td>Com abordagem</td>\n",
       "      <td>MOTOCICLETA</td>\n",
       "      <td>Dirigir veículo sem possuir CNH/PPD/ACC</td>\n",
       "      <td>Nenhuma</td>\n",
       "      <td>1</td>\n",
       "    </tr>\n",
       "    <tr>\n",
       "      <th>86</th>\n",
       "      <td>22/01/2023</td>\n",
       "      <td>Janeiro</td>\n",
       "      <td>JUAZEIRO</td>\n",
       "      <td>407</td>\n",
       "      <td>Tarde</td>\n",
       "      <td>Com abordagem</td>\n",
       "      <td>MOTOCICLETA</td>\n",
       "      <td>Rec sub test,ex clin, peric ou proc q perm cer...</td>\n",
       "      <td>Nenhuma</td>\n",
       "      <td>1</td>\n",
       "    </tr>\n",
       "    <tr>\n",
       "      <th>2338</th>\n",
       "      <td>01/01/2023</td>\n",
       "      <td>Janeiro</td>\n",
       "      <td>SALVADOR</td>\n",
       "      <td>324</td>\n",
       "      <td>Madrugada</td>\n",
       "      <td>Sem abordagem</td>\n",
       "      <td>AUTOMOVEL</td>\n",
       "      <td>Transitar em velocidade superior à máxima perm...</td>\n",
       "      <td>Veiculo</td>\n",
       "      <td>1</td>\n",
       "    </tr>\n",
       "    <tr>\n",
       "      <th>2360</th>\n",
       "      <td>01/01/2023</td>\n",
       "      <td>Janeiro</td>\n",
       "      <td>FEIRA DE SANTANA</td>\n",
       "      <td>324</td>\n",
       "      <td>Madrugada</td>\n",
       "      <td>Sem abordagem</td>\n",
       "      <td>AUTOMOVEL</td>\n",
       "      <td>Transitar em velocidade superior à máxima perm...</td>\n",
       "      <td>Veiculo</td>\n",
       "      <td>1</td>\n",
       "    </tr>\n",
       "    <tr>\n",
       "      <th>2370</th>\n",
       "      <td>01/01/2023</td>\n",
       "      <td>Janeiro</td>\n",
       "      <td>SALVADOR</td>\n",
       "      <td>324</td>\n",
       "      <td>Madrugada</td>\n",
       "      <td>Sem abordagem</td>\n",
       "      <td>AUTOMOVEL</td>\n",
       "      <td>Transitar em velocidade superior à máxima perm...</td>\n",
       "      <td>Veiculo</td>\n",
       "      <td>1</td>\n",
       "    </tr>\n",
       "    <tr>\n",
       "      <th>...</th>\n",
       "      <td>...</td>\n",
       "      <td>...</td>\n",
       "      <td>...</td>\n",
       "      <td>...</td>\n",
       "      <td>...</td>\n",
       "      <td>...</td>\n",
       "      <td>...</td>\n",
       "      <td>...</td>\n",
       "      <td>...</td>\n",
       "      <td>...</td>\n",
       "    </tr>\n",
       "    <tr>\n",
       "      <th>5945640</th>\n",
       "      <td>29/12/2023</td>\n",
       "      <td>Dezembro</td>\n",
       "      <td>JEQUIE</td>\n",
       "      <td>116</td>\n",
       "      <td>Manhã</td>\n",
       "      <td>Sem abordagem</td>\n",
       "      <td>AUTOMOVEL</td>\n",
       "      <td>Em mov deix de man aces luz baixa de dia, em r...</td>\n",
       "      <td>Nenhuma</td>\n",
       "      <td>1</td>\n",
       "    </tr>\n",
       "    <tr>\n",
       "      <th>5946127</th>\n",
       "      <td>29/12/2023</td>\n",
       "      <td>Dezembro</td>\n",
       "      <td>JEQUIE</td>\n",
       "      <td>116</td>\n",
       "      <td>Manhã</td>\n",
       "      <td>Sem abordagem</td>\n",
       "      <td>AUTOMOVEL</td>\n",
       "      <td>Em mov deix de man aces luz baixa de dia, em r...</td>\n",
       "      <td>Nenhuma</td>\n",
       "      <td>1</td>\n",
       "    </tr>\n",
       "    <tr>\n",
       "      <th>5946128</th>\n",
       "      <td>29/12/2023</td>\n",
       "      <td>Dezembro</td>\n",
       "      <td>JEQUIE</td>\n",
       "      <td>116</td>\n",
       "      <td>Manhã</td>\n",
       "      <td>Sem abordagem</td>\n",
       "      <td>AUTOMOVEL</td>\n",
       "      <td>Em mov deix de man aces luz baixa de dia, em r...</td>\n",
       "      <td>Nenhuma</td>\n",
       "      <td>1</td>\n",
       "    </tr>\n",
       "    <tr>\n",
       "      <th>5946129</th>\n",
       "      <td>29/12/2023</td>\n",
       "      <td>Dezembro</td>\n",
       "      <td>JEQUIE</td>\n",
       "      <td>116</td>\n",
       "      <td>Manhã</td>\n",
       "      <td>Sem abordagem</td>\n",
       "      <td>AUTOMOVEL</td>\n",
       "      <td>Em mov deix de man aces luz baixa de dia, em r...</td>\n",
       "      <td>Nenhuma</td>\n",
       "      <td>1</td>\n",
       "    </tr>\n",
       "    <tr>\n",
       "      <th>5946130</th>\n",
       "      <td>29/12/2023</td>\n",
       "      <td>Dezembro</td>\n",
       "      <td>JEQUIE</td>\n",
       "      <td>116</td>\n",
       "      <td>Manhã</td>\n",
       "      <td>Sem abordagem</td>\n",
       "      <td>CAMINHAO</td>\n",
       "      <td>Em mov deix de man aces luz baixa de dia, em r...</td>\n",
       "      <td>Nenhuma</td>\n",
       "      <td>1</td>\n",
       "    </tr>\n",
       "  </tbody>\n",
       "</table>\n",
       "<p>283033 rows × 10 columns</p>\n",
       "</div>"
      ],
      "text/plain": [
       "        Data da Infração       Mês         Município  BR Infração      Turno  \\\n",
       "84            21/01/2023   Janeiro          JUAZEIRO          407      Tarde   \n",
       "86            22/01/2023   Janeiro          JUAZEIRO          407      Tarde   \n",
       "2338          01/01/2023   Janeiro          SALVADOR          324  Madrugada   \n",
       "2360          01/01/2023   Janeiro  FEIRA DE SANTANA          324  Madrugada   \n",
       "2370          01/01/2023   Janeiro          SALVADOR          324  Madrugada   \n",
       "...                  ...       ...               ...          ...        ...   \n",
       "5945640       29/12/2023  Dezembro            JEQUIE          116      Manhã   \n",
       "5946127       29/12/2023  Dezembro            JEQUIE          116      Manhã   \n",
       "5946128       29/12/2023  Dezembro            JEQUIE          116      Manhã   \n",
       "5946129       29/12/2023  Dezembro            JEQUIE          116      Manhã   \n",
       "5946130       29/12/2023  Dezembro            JEQUIE          116      Manhã   \n",
       "\n",
       "        Indicador de Abordagem Tipo Veículo  \\\n",
       "84               Com abordagem  MOTOCICLETA   \n",
       "86               Com abordagem  MOTOCICLETA   \n",
       "2338             Sem abordagem    AUTOMOVEL   \n",
       "2360             Sem abordagem    AUTOMOVEL   \n",
       "2370             Sem abordagem    AUTOMOVEL   \n",
       "...                        ...          ...   \n",
       "5945640          Sem abordagem    AUTOMOVEL   \n",
       "5946127          Sem abordagem    AUTOMOVEL   \n",
       "5946128          Sem abordagem    AUTOMOVEL   \n",
       "5946129          Sem abordagem    AUTOMOVEL   \n",
       "5946130          Sem abordagem     CAMINHAO   \n",
       "\n",
       "                                        Descrição Infração Medição Infração  \\\n",
       "84                 Dirigir veículo sem possuir CNH/PPD/ACC          Nenhuma   \n",
       "86       Rec sub test,ex clin, peric ou proc q perm cer...          Nenhuma   \n",
       "2338     Transitar em velocidade superior à máxima perm...          Veiculo   \n",
       "2360     Transitar em velocidade superior à máxima perm...          Veiculo   \n",
       "2370     Transitar em velocidade superior à máxima perm...          Veiculo   \n",
       "...                                                    ...              ...   \n",
       "5945640  Em mov deix de man aces luz baixa de dia, em r...          Nenhuma   \n",
       "5946127  Em mov deix de man aces luz baixa de dia, em r...          Nenhuma   \n",
       "5946128  Em mov deix de man aces luz baixa de dia, em r...          Nenhuma   \n",
       "5946129  Em mov deix de man aces luz baixa de dia, em r...          Nenhuma   \n",
       "5946130  Em mov deix de man aces luz baixa de dia, em r...          Nenhuma   \n",
       "\n",
       "         Qtde Infrações  \n",
       "84                    1  \n",
       "86                    1  \n",
       "2338                  1  \n",
       "2360                  1  \n",
       "2370                  1  \n",
       "...                 ...  \n",
       "5945640               1  \n",
       "5946127               1  \n",
       "5946128               1  \n",
       "5946129               1  \n",
       "5946130               1  \n",
       "\n",
       "[283033 rows x 10 columns]"
      ]
     },
     "execution_count": 18,
     "metadata": {},
     "output_type": "execute_result"
    }
   ],
   "source": [
    "df_concatenado_ba"
   ]
  },
  {
   "cell_type": "code",
   "execution_count": 20,
   "metadata": {},
   "outputs": [
    {
     "name": "stdout",
     "output_type": "stream",
     "text": [
      "                      Qtde Infrações  Percentual (%)\n",
      "Município                                           \n",
      "FEIRA DE SANTANA               33857       11.962209\n",
      "VITORIA DA CONQUISTA           33499       11.835722\n",
      "SALVADOR                       22453        7.932997\n",
      "JEQUIE                         14651        5.176428\n",
      "CANDIDO SALES                  13439        4.748210\n",
      "...                              ...             ...\n",
      "SANTA RITA DE CASSIA               1        0.000353\n",
      "SAO DOMINGOS                       1        0.000353\n",
      "SOBRADINHO                         1        0.000353\n",
      "URANDI                             1        0.000353\n",
      "Total                         283033      100.000000\n",
      "\n",
      "[192 rows x 2 columns]\n"
     ]
    }
   ],
   "source": [
    "# Agrupar por Município e somar a quantidade de infrações\n",
    "df_agrupado = df_concatenado_ba.groupby('Município').agg({'Qtde Infrações': 'sum'}).sort_values('Qtde Infrações', ascending=False)\n",
    "\n",
    "# Calcular o total de infrações\n",
    "total_infracoes = df_agrupado['Qtde Infrações'].sum()\n",
    "\n",
    "# Adicionar uma coluna com o percentual de cada municipio em relação ao total\n",
    "df_agrupado['Percentual (%)'] = (df_agrupado['Qtde Infrações'] / total_infracoes) * 100\n",
    "\n",
    "# Adicionar uma linha com o total\n",
    "df_agrupado.loc['Total'] = [total_infracoes, 100]\n",
    "\n",
    "# Exibir o resultado\n",
    "print(df_agrupado)"
   ]
  },
  {
   "cell_type": "code",
   "execution_count": 73,
   "metadata": {},
   "outputs": [
    {
     "data": {
      "image/png": "[encoded data removed]",
      "text/plain": [
       "<Figure size 1200x600 with 1 Axes>"
      ]
     },
     "metadata": {},
     "output_type": "display_data"
    }
   ],
   "source": [
    "# Calcular a contagem de infrações por municipio\n",
    "top_veiculos = df_concatenado_ba['Município'].value_counts().nlargest(15)\n",
    "\n",
    "# Definir tamanho da figura\n",
    "plt.figure(figsize=(12, 6))\n",
    "\n",
    "# Instanciar o tipo de plotagem, no caso\n",
    "sns.barplot(x=top_veiculos.index, y=top_veiculos.values)\n",
    "\n",
    "# Definir texto do título e eixos x e y\n",
    "plt.title('Contagem de Infrações por Municípios (Top 15)')\n",
    "\n",
    "plt.xticks(rotation=90)\n",
    "\n",
    "plt.show()"
   ]
  },
  {
   "cell_type": "code",
   "execution_count": 191,
   "metadata": {},
   "outputs": [
    {
     "name": "stdout",
     "output_type": "stream",
     "text": [
      "                                                    Qtde Infrações  \\\n",
      "Descrição Infração                                                   \n",
      "Transitar em velocidade superior à máxima permi...           80304   \n",
      "Ultrapassar pela contramão linha de divisão de ...           34911   \n",
      "Transitar em velocidade superior à máxima permi...           14797   \n",
      "Conduzir o veículo c/ equip do sistema de ilumi...           12024   \n",
      "Desobedecer às ordens emanadas da autorid compe...           11446   \n",
      "...                                                            ...   \n",
      "Transitar com o veículo em ciclovias, ciclofaixas                1   \n",
      "Transitar ao lado de outro veículo, interrompen...               1   \n",
      "Usar qq veiculo para, delib, interromper circul...               1   \n",
      "Circular, o veículo de transporte de carga, com...               1   \n",
      "Total                                                       283033   \n",
      "\n",
      "                                                    Percentual (%)  \n",
      "Descrição Infração                                                  \n",
      "Transitar em velocidade superior à máxima permi...       28.372663  \n",
      "Ultrapassar pela contramão linha de divisão de ...       12.334604  \n",
      "Transitar em velocidade superior à máxima permi...        5.228012  \n",
      "Conduzir o veículo c/ equip do sistema de ilumi...        4.248268  \n",
      "Desobedecer às ordens emanadas da autorid compe...        4.044051  \n",
      "...                                                            ...  \n",
      "Transitar com o veículo em ciclovias, ciclofaixas         0.000353  \n",
      "Transitar ao lado de outro veículo, interrompen...        0.000353  \n",
      "Usar qq veiculo para, delib, interromper circul...        0.000353  \n",
      "Circular, o veículo de transporte de carga, com...        0.000353  \n",
      "Total                                                   100.000000  \n",
      "\n",
      "[304 rows x 2 columns]\n"
     ]
    }
   ],
   "source": [
    "# Agrupar por Descrição Infração e somar a quantidade de infrações\n",
    "df_agrupado = df_concatenado_ba.groupby('Descrição Infração').agg({'Qtde Infrações': 'sum'}).sort_values('Qtde Infrações', ascending=False)\n",
    "\n",
    "# Calcular o total de infrações\n",
    "total_infracoes = df_agrupado['Qtde Infrações'].sum()\n",
    "\n",
    "# Adicionar uma coluna com o percentual de cada descrição de infranção em relação ao total\n",
    "df_agrupado['Percentual (%)'] = (df_agrupado['Qtde Infrações'] / total_infracoes) * 100\n",
    "\n",
    "# Adicionar uma linha com o total\n",
    "df_agrupado.loc['Total'] = [total_infracoes, 100]\n",
    "\n",
    "# Exibir o resultado\n",
    "print(df_agrupado)"
   ]
  },
  {
   "cell_type": "code",
   "execution_count": 21,
   "metadata": {},
   "outputs": [
    {
     "name": "stdout",
     "output_type": "stream",
     "text": [
      "           Qtde Infrações  Percentual (%)\n",
      "Turno                                    \n",
      "Tarde              130669       46.167408\n",
      "Manhã              110386       39.001106\n",
      "Noite               25522        9.017323\n",
      "Madrugada           16456        5.814163\n",
      "Total              283033      100.000000\n"
     ]
    }
   ],
   "source": [
    "# Agrupar por Turno e somar a quantidade de infrações\n",
    "df_agrupado = df_concatenado_ba.groupby('Turno').agg({'Qtde Infrações': 'sum'}).sort_values('Qtde Infrações', ascending=False)\n",
    "\n",
    "# Calcular o total de infrações\n",
    "total_infracoes = df_agrupado['Qtde Infrações'].sum()\n",
    "\n",
    "# Adicionar uma coluna com o percentual de cada turno em relação ao total\n",
    "df_agrupado['Percentual (%)'] = (df_agrupado['Qtde Infrações'] / total_infracoes) * 100\n",
    "\n",
    "# Adicionar uma linha com o total\n",
    "df_agrupado.loc['Total'] = [total_infracoes, 100]\n",
    "\n",
    "# Exibir o resultado\n",
    "print(df_agrupado)"
   ]
  },
  {
   "cell_type": "code",
   "execution_count": 84,
   "metadata": {},
   "outputs": [
    {
     "data": {
      "image/png": "[encoded data removed]",
      "text/plain": [
       "<Figure size 400x500 with 1 Axes>"
      ]
     },
     "metadata": {},
     "output_type": "display_data"
    }
   ],
   "source": [
    "# definir tamanho da figura\n",
    "plt.figure(figsize=(4, 5))\n",
    "\n",
    "# instanciar o tipo de plotagem\n",
    "sns.countplot(data = df_concatenado_ba,\n",
    "              x = 'Turno')\n",
    "\n",
    "# definir texto do título e eixos x e y\n",
    "plt.title('Contagem de Infração por Turno')\n",
    "plt.ylabel('Qtde Infrações')\n",
    "\n",
    "plt.show()"
   ]
  },
  {
   "cell_type": "code",
   "execution_count": 22,
   "metadata": {},
   "outputs": [
    {
     "name": "stdout",
     "output_type": "stream",
     "text": [
      "             Qtde Infrações  Percentual (%)\n",
      "BR Infração                                \n",
      "116                   90119       31.840457\n",
      "324                   70326       24.847279\n",
      "101                   52553       18.567800\n",
      "242                   26610        9.401731\n",
      "110                   10355        3.658584\n",
      "407                    9033        3.191501\n",
      "367                    6900        2.437878\n",
      "415                    4589        1.621366\n",
      "30                     3181        1.123897\n",
      "135                    2810        0.992817\n",
      "20                     2172        0.767402\n",
      "330                    2003        0.707691\n",
      "418                     794        0.280533\n",
      "235                     780        0.275586\n",
      "410                     438        0.154752\n",
      "349                     115        0.040631\n",
      "122                      96        0.033918\n",
      "420                      88        0.031092\n",
      "430                      62        0.021906\n",
      "342                       6        0.002120\n",
      "498                       2        0.000707\n",
      "251                       1        0.000353\n",
      "Total                283033      100.000000\n"
     ]
    }
   ],
   "source": [
    "# Agrupar por BR Infração e somar a quantidade de infrações\n",
    "df_agrupado = df_concatenado_ba.groupby('BR Infração').agg({'Qtde Infrações': 'sum'}).sort_values('Qtde Infrações', ascending=False)\n",
    "\n",
    "# Calcular o total de infrações\n",
    "total_infracoes = df_agrupado['Qtde Infrações'].sum()\n",
    "\n",
    "# Adicionar uma coluna com o percentual de cada BR em relação ao total\n",
    "df_agrupado['Percentual (%)'] = (df_agrupado['Qtde Infrações'] / total_infracoes) * 100\n",
    "\n",
    "# Adicionar uma linha com o total\n",
    "df_agrupado.loc['Total'] = [total_infracoes, 100]\n",
    "\n",
    "# Exibir o resultado\n",
    "print(df_agrupado)"
   ]
  },
  {
   "cell_type": "code",
   "execution_count": 83,
   "metadata": {},
   "outputs": [
    {
     "data": {
      "image/png": "[encoded data removed]",
      "text/plain": [
       "<Figure size 800x600 with 1 Axes>"
      ]
     },
     "metadata": {},
     "output_type": "display_data"
    }
   ],
   "source": [
    "# Calcular a contagem de infrações por BR\n",
    "top_veiculos = df_concatenado_ba['BR Infração'].value_counts().nlargest(10)\n",
    "\n",
    "# Definir tamanho da figura\n",
    "plt.figure(figsize=(8, 6))\n",
    "\n",
    "# Instanciar o tipo de plotagem\n",
    "sns.barplot(x=top_veiculos.index, y=top_veiculos.values)\n",
    "\n",
    "# Definir texto do título e eixos x e y\n",
    "plt.title('Contagem de Infrações por BRs Federais (Top 10)')\n",
    "\n",
    "plt.show()"
   ]
  },
  {
   "cell_type": "code",
   "execution_count": 23,
   "metadata": {},
   "outputs": [
    {
     "name": "stdout",
     "output_type": "stream",
     "text": [
      "                        Qtde Infrações  Percentual (%)\n",
      "Indicador de Abordagem                                \n",
      "Sem abordagem                   155723       55.019379\n",
      "Com abordagem                   127310       44.980621\n",
      "Total                           283033      100.000000\n"
     ]
    }
   ],
   "source": [
    "# Agrupar por Indicador de Abordagem e somar a quantidade de infrações\n",
    "df_agrupado = df_concatenado_ba.groupby('Indicador de Abordagem').agg({'Qtde Infrações': 'sum'}).sort_values('Qtde Infrações', ascending=False)\n",
    "\n",
    "# Calcular o total de infrações\n",
    "total_infracoes = df_agrupado['Qtde Infrações'].sum()\n",
    "\n",
    "# Adicionar uma coluna com o percentual de cada Indicador de Abordagem em relação ao total\n",
    "df_agrupado['Percentual (%)'] = (df_agrupado['Qtde Infrações'] / total_infracoes) * 100\n",
    "\n",
    "# Adicionar uma linha com o total\n",
    "df_agrupado.loc['Total'] = [total_infracoes, 100]\n",
    "\n",
    "# Exibir o resultado\n",
    "print(df_agrupado)"
   ]
  },
  {
   "cell_type": "code",
   "execution_count": 82,
   "metadata": {},
   "outputs": [
    {
     "data": {
      "image/png": "[encoded data removed]",
      "text/plain": [
       "<Figure size 400x500 with 1 Axes>"
      ]
     },
     "metadata": {},
     "output_type": "display_data"
    }
   ],
   "source": [
    "# definir tamanho da figura\n",
    "plt.figure(figsize=(4, 5))\n",
    "\n",
    "# instanciar o tipo de plotagem, no caso, um countplot usando x como os tipos de plano\n",
    "sns.countplot(data = df_concatenado_ba,\n",
    "              x = 'Indicador de Abordagem')\n",
    "\n",
    "# definir texto do título e eixos x e y\n",
    "plt.title('Contagem de Infração por Indicador de Abordagem')\n",
    "plt.ylabel('Qtde Infrações')\n",
    "\n",
    "plt.show()"
   ]
  },
  {
   "cell_type": "code",
   "execution_count": 24,
   "metadata": {},
   "outputs": [
    {
     "name": "stdout",
     "output_type": "stream",
     "text": [
      "                 Qtde Infrações  Percentual (%)\n",
      "Tipo Veículo                                   \n",
      "AUTOMOVEL                114345       40.399883\n",
      "CAMINHONETE               39229       13.860221\n",
      "CAMINHAO                  33439       11.814523\n",
      "MOTOCICLETA               30200       10.670134\n",
      "CAMINHAO TRATOR           25699        9.079860\n",
      "CAMIONETA                 11626        4.107648\n",
      "SEMI-REBOQUE               8557        3.023322\n",
      "UTILITARIO                 7600        2.685199\n",
      "MOTONETA                   3582        1.265577\n",
      "MICROONIBUS                3234        1.142623\n",
      "ONIBUS                     2939        1.038395\n",
      "Não informado              1284        0.453657\n",
      "REBOQUE                     739        0.261100\n",
      "CICLOMOTOR                  437        0.154399\n",
      "MOTOR-CASA                   52        0.018372\n",
      "TRICICLO                     41        0.014486\n",
      "TRATOR DE RODAS              29        0.010246\n",
      "SIDE-CAR                      1        0.000353\n",
      "Total                    283033      100.000000\n"
     ]
    }
   ],
   "source": [
    "# Agrupar por Tipo Veículo e somar a quantidade de infrações\n",
    "df_agrupado = df_concatenado_ba.groupby('Tipo Veículo').agg({'Qtde Infrações': 'sum'}).sort_values('Qtde Infrações', ascending=False)\n",
    "\n",
    "# Calcular o total de infrações\n",
    "total_infracoes = df_agrupado['Qtde Infrações'].sum()\n",
    "\n",
    "# Adicionar uma coluna com o percentual de cada Tipo de Veículo em relação ao total\n",
    "df_agrupado['Percentual (%)'] = (df_agrupado['Qtde Infrações'] / total_infracoes) * 100\n",
    "\n",
    "# Adicionar uma linha com o total\n",
    "df_agrupado.loc['Total'] = [total_infracoes, 100]\n",
    "\n",
    "# Exibir o resultado\n",
    "print(df_agrupado)"
   ]
  },
  {
   "cell_type": "code",
   "execution_count": 85,
   "metadata": {},
   "outputs": [
    {
     "data": {
      "image/png": "[encoded data removed]",
      "text/plain": [
       "<Figure size 800x600 with 1 Axes>"
      ]
     },
     "metadata": {},
     "output_type": "display_data"
    }
   ],
   "source": [
    "# Calcular a contagem de infrações por tipo de veículo\n",
    "top_veiculos = df_concatenado_ba['Tipo Veículo'].value_counts().nlargest(5)\n",
    "\n",
    "# Definir tamanho da figura\n",
    "plt.figure(figsize=(8, 6))\n",
    "\n",
    "# Instanciar o tipo de plotagem\n",
    "sns.barplot(x=top_veiculos.index, y=top_veiculos.values)\n",
    "\n",
    "# Definir texto do título e eixos x e y\n",
    "plt.title('Contagem de Infrações por Tipo de Veículo (Top 5)')\n",
    "plt.ylabel('Quantidade de Infrações')\n",
    "\n",
    "plt.show()"
   ]
  },
  {
   "cell_type": "code",
   "execution_count": 196,
   "metadata": {},
   "outputs": [
    {
     "name": "stdout",
     "output_type": "stream",
     "text": [
      "                  Qtde Infrações  Percentual (%)\n",
      "Medição Infração                                \n",
      "Nenhuma                   183693       64.901619\n",
      "Veiculo                    96852       34.219331\n",
      "Peso                        1883        0.665293\n",
      "Dimensão                     319        0.112708\n",
      "Alcoolemia                   286        0.101048\n",
      "Total                     283033      100.000000\n"
     ]
    }
   ],
   "source": [
    "# Agrupar por Medição Infração e somar a quantidade de infrações\n",
    "df_agrupado = df_concatenado_ba.groupby('Medição Infração').agg({'Qtde Infrações': 'sum'}).sort_values('Qtde Infrações', ascending=False)\n",
    "\n",
    "# Calcular o total de infrações\n",
    "total_infracoes = df_agrupado['Qtde Infrações'].sum()\n",
    "\n",
    "# Adicionar uma coluna com o percentual de cada Medição Infração em relação ao total\n",
    "df_agrupado['Percentual (%)'] = (df_agrupado['Qtde Infrações'] / total_infracoes) * 100\n",
    "\n",
    "# Adicionar uma linha com o total\n",
    "df_agrupado.loc['Total'] = [total_infracoes, 100]\n",
    "\n",
    "# Exibir o resultado\n",
    "print(df_agrupado)"
   ]
  },
  {
   "cell_type": "code",
   "execution_count": 86,
   "metadata": {},
   "outputs": [
    {
     "data": {
      "image/png": "[encoded data removed]",
      "text/plain": [
       "<Figure size 800x600 with 1 Axes>"
      ]
     },
     "metadata": {},
     "output_type": "display_data"
    }
   ],
   "source": [
    "# definir tamanho da figura\n",
    "plt.figure(figsize=(8, 6))\n",
    "\n",
    "# instanciar o tipo de plotagem\n",
    "sns.countplot(data = df_concatenado_ba,\n",
    "              x = 'Medição Infração')\n",
    "\n",
    "# definir texto do título e eixos x e y\n",
    "plt.title('Contagem de Infração por Medição da Infração')\n",
    "plt.ylabel('Qtde Infrações')\n",
    "\n",
    "plt.show()"
   ]
  },
  {
   "cell_type": "code",
   "execution_count": 197,
   "metadata": {},
   "outputs": [
    {
     "name": "stdout",
     "output_type": "stream",
     "text": [
      "           Qtde Infrações  Percentual (%)\n",
      "Mês                                      \n",
      "Março               37298       13.177969\n",
      "Janeiro             35165       12.424346\n",
      "Fevereiro           29625       10.466977\n",
      "Abril               25819        9.122258\n",
      "Dezembro            25490        9.006017\n",
      "Novembro            21634        7.643632\n",
      "Junho               20515        7.248271\n",
      "Agosto              18437        6.514081\n",
      "Maio                17426        6.156879\n",
      "Outubro             17414        6.152639\n",
      "Julho               17238        6.090456\n",
      "Setembro            16972        5.996474\n",
      "Total              283033      100.000000\n"
     ]
    }
   ],
   "source": [
    "# Agrupar por Mês e somar a quantidade de infrações\n",
    "df_agrupado = df_concatenado_ba.groupby('Mês').agg({'Qtde Infrações': 'sum'}).sort_values('Qtde Infrações', ascending=False)\n",
    "\n",
    "# Calcular o total de infrações\n",
    "total_infracoes = df_agrupado['Qtde Infrações'].sum()\n",
    "\n",
    "# Adicionar uma coluna com o percentual de cada Mês em relação ao total\n",
    "df_agrupado['Percentual (%)'] = (df_agrupado['Qtde Infrações'] / total_infracoes) * 100\n",
    "\n",
    "# Adicionar uma linha com o total\n",
    "df_agrupado.loc['Total'] = [total_infracoes, 100]\n",
    "\n",
    "# Exibir o resultado\n",
    "print(df_agrupado)"
   ]
  },
  {
   "cell_type": "code",
   "execution_count": 88,
   "metadata": {},
   "outputs": [
    {
     "data": {
      "image/png": "[encoded data removed]",
      "text/plain": [
       "<Figure size 1200x600 with 1 Axes>"
      ]
     },
     "metadata": {},
     "output_type": "display_data"
    }
   ],
   "source": [
    "# definir tamanho da figura\n",
    "plt.figure(figsize=(12, 6))\n",
    "\n",
    "# instanciar o tipo de plotagem\n",
    "sns.countplot(data = df_concatenado_ba,\n",
    "              x = 'Mês')\n",
    "\n",
    "# definir texto do título e eixos x e y\n",
    "plt.title('Contagem de Infrações por Mês')\n",
    "plt.ylabel('Qtde Infrações')\n",
    "\n",
    "plt.show()"
   ]
  },
  {
   "cell_type": "code",
   "execution_count": 89,
   "metadata": {},
   "outputs": [],
   "source": [
    "df_concatenado_ba.to_csv('base_final_infracoes_BA_2023.csv', index=False)"
   ]
  }
 ],
 "metadata": {
  "kernelspec": {
   "display_name": "base",
   "language": "python",
   "name": "python3"
  },
  "language_info": {
   "codemirror_mode": {
    "name": "ipython",
    "version": 3
   },
   "file_extension": ".py",
   "mimetype": "text/x-python",
   "name": "python",
   "nbconvert_exporter": "python",
   "pygments_lexer": "ipython3",
   "version": "3.9.13"
  }
 },
 "nbformat": 4,
 "nbformat_minor": 2
}
